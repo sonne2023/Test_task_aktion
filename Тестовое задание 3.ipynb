{
 "cells": [
  {
   "cell_type": "code",
   "execution_count": 177,
   "metadata": {},
   "outputs": [],
   "source": [
    "import re\n"
   ]
  },
  {
   "cell_type": "code",
   "execution_count": 178,
   "metadata": {},
   "outputs": [],
   "source": [
    "s1 = ['постановление 776', \n",
    "      'приказ 29н медосмотры класс условий труда', \n",
    "      'кнд 1111520',\n",
    "      '222 постановление 12 статья', \n",
    "      'приложение к приказу199н министерства финансов рф',\n",
    "      'приказ мз рф 1079н',\n",
    "      'приказ мз рф № 1079н',\n",
    "      'постановление 15новые правила']\n",
    "         "
   ]
  },
  {
   "cell_type": "code",
   "execution_count": 179,
   "metadata": {},
   "outputs": [
    {
     "name": "stdout",
     "output_type": "stream",
     "text": [
      "постановление № 776\n",
      "приказ № 29н медосмотры класс условий труда\n",
      "кнд 1111520\n",
      "222 постановление 12 статья\n",
      "приложение к приказу № 199н министерства финансов рф\n",
      "приказ мз рф № 1079н\n",
      "приказ мз рф № 1079н\n",
      "постановление 15новые правила\n"
     ]
    }
   ],
   "source": [
    "r = re.compile('(?:(постановление)\\s(\\d+)$)|(?:(приказу?(?:\\s[а-я]+)*)\\s?(\\d+н))')\n",
    "for s in s1:\n",
    "    print(r.sub(r'\\1\\3 № \\2\\4', s))"
   ]
  },
  {
   "cell_type": "code",
   "execution_count": null,
   "metadata": {},
   "outputs": [],
   "source": []
  }
 ],
 "metadata": {
  "kernelspec": {
   "display_name": "Python 3",
   "language": "python",
   "name": "python3"
  },
  "language_info": {
   "codemirror_mode": {
    "name": "ipython",
    "version": 3
   },
   "file_extension": ".py",
   "mimetype": "text/x-python",
   "name": "python",
   "nbconvert_exporter": "python",
   "pygments_lexer": "ipython3",
   "version": "3.8.5"
  }
 },
 "nbformat": 4,
 "nbformat_minor": 4
}
