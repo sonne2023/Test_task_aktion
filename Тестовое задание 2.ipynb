{
 "cells": [
  {
   "cell_type": "code",
   "execution_count": 1,
   "metadata": {},
   "outputs": [],
   "source": [
    "import requests"
   ]
  },
  {
   "cell_type": "code",
   "execution_count": 50,
   "metadata": {},
   "outputs": [],
   "source": [
    "list = ['шраф по сзв-м',\n",
    "        'платят лт по договору гпх страховые взносы',\n",
    "        'авнс за май',\n",
    "        'страховые взносы по доптарифам вредники в расходах алог на прибыль',\n",
    "        'командировочные расходы на госиницу документальное подтверждение',\n",
    "        'сведения об основных показателях деятельности малого предприятия кто здает',\n",
    "        'заполнитьтранспортную накладную',\n",
    "        'административные штрафы для малоо бизнеса',\n",
    "        'процентная ставка наога в крыму',\n",
    "        'списание дебиторки в галоговм учте']\n"
   ]
  },
  {
   "cell_type": "code",
   "execution_count": 63,
   "metadata": {},
   "outputs": [
    {
     "name": "stdout",
     "output_type": "stream",
     "text": [
      "[[{'code': 1, 'pos': 0, 'row': 0, 'col': 0, 'len': 4, 'word': 'шраф', 's': ['штраф']}], [], [{'code': 1, 'pos': 0, 'row': 0, 'col': 0, 'len': 4, 'word': 'авнс', 's': ['аванс']}], [{'code': 1, 'pos': 51, 'row': 0, 'col': 51, 'len': 4, 'word': 'алог', 's': ['налог']}], [{'code': 1, 'pos': 27, 'row': 0, 'col': 27, 'len': 8, 'word': 'госиницу', 's': ['гостиницу', 'гостинницу']}], [{'code': 1, 'pos': 69, 'row': 0, 'col': 69, 'len': 5, 'word': 'здает', 's': ['сдает', 'знает', 'задает']}], [{'code': 1, 'pos': 0, 'row': 0, 'col': 0, 'len': 21, 'word': 'заполнитьтранспортную', 's': ['заполнить транспортную', 'заполнять транспортную']}], [{'code': 1, 'pos': 28, 'row': 0, 'col': 28, 'len': 5, 'word': 'малоо', 's': ['малого']}], [{'code': 1, 'pos': 18, 'row': 0, 'col': 18, 'len': 5, 'word': 'наога', 's': ['налога', 'нога', 'на юга', 'на ага']}], [{'code': 1, 'pos': 21, 'row': 0, 'col': 21, 'len': 8, 'word': 'галоговм', 's': ['налоговом']}, {'code': 1, 'pos': 30, 'row': 0, 'col': 30, 'len': 4, 'word': 'учте', 's': ['учете', 'учте']}]]\n"
     ]
    }
   ],
   "source": [
    "# Отправляю запрос в Яндекс-спеллер\n",
    "params = {'text': list}\n",
    "req = requests.get('https://speller.yandex.net/services/spellservice.json/checkTexts', params)\n",
    "# Вывожу ответ в формате JSON\n",
    "correct = req.json()\n",
    "print(correct)"
   ]
  },
  {
   "cell_type": "code",
   "execution_count": 71,
   "metadata": {},
   "outputs": [
    {
     "name": "stdout",
     "output_type": "stream",
     "text": [
      "0\n",
      "[{'code': 1, 'pos': 0, 'row': 0, 'col': 0, 'len': 4, 'word': 'шраф', 's': ['штраф']}]\n",
      "1\n",
      "[]\n",
      "2\n",
      "[{'code': 1, 'pos': 0, 'row': 0, 'col': 0, 'len': 4, 'word': 'авнс', 's': ['аванс']}]\n",
      "3\n",
      "[{'code': 1, 'pos': 51, 'row': 0, 'col': 51, 'len': 4, 'word': 'алог', 's': ['налог']}]\n",
      "4\n",
      "[{'code': 1, 'pos': 27, 'row': 0, 'col': 27, 'len': 8, 'word': 'госиницу', 's': ['гостиницу', 'гостинницу']}]\n",
      "5\n",
      "[{'code': 1, 'pos': 69, 'row': 0, 'col': 69, 'len': 5, 'word': 'здает', 's': ['сдает', 'знает', 'задает']}]\n",
      "6\n",
      "[{'code': 1, 'pos': 0, 'row': 0, 'col': 0, 'len': 21, 'word': 'заполнитьтранспортную', 's': ['заполнить транспортную', 'заполнять транспортную']}]\n",
      "7\n",
      "[{'code': 1, 'pos': 28, 'row': 0, 'col': 28, 'len': 5, 'word': 'малоо', 's': ['малого']}]\n",
      "8\n",
      "[{'code': 1, 'pos': 18, 'row': 0, 'col': 18, 'len': 5, 'word': 'наога', 's': ['налога', 'нога', 'на юга', 'на ага']}]\n",
      "9\n",
      "[{'code': 1, 'pos': 21, 'row': 0, 'col': 21, 'len': 8, 'word': 'галоговм', 's': ['налоговом']}, {'code': 1, 'pos': 30, 'row': 0, 'col': 30, 'len': 4, 'word': 'учте', 's': ['учете', 'учте']}]\n"
     ]
    }
   ],
   "source": [
    "# Прохожу циклом по полученным ответам\n",
    "result = []\n",
    "for i, r in enumerate(correct):\n",
    "    print(i)\n",
    "    print(r)\n",
    "    # Получаю исходную строку по индексу ответа\n",
    "    t = list[i]\n",
    "    for w in r: \n",
    "        # Заменяю слово с ошибкой на первый предложенный вариант\n",
    "        t = t.replace(w['word'], w['s'][0])\n",
    "    result.append(t)"
   ]
  },
  {
   "cell_type": "code",
   "execution_count": 72,
   "metadata": {},
   "outputs": [
    {
     "name": "stdout",
     "output_type": "stream",
     "text": [
      "штраф по сзв-м\n",
      "платят лт по договору гпх страховые взносы\n",
      "аванс за май\n",
      "страховые взносы по доптарифам вредники в расходах налог на прибыль\n",
      "командировочные расходы на гостиницу документальное подтверждение\n",
      "сведения об основных показателях деятельности малого предприятия кто сдает\n",
      "заполнить транспортную накладную\n",
      "административные штрафы для малого бизнеса\n",
      "процентная ставка налога в крыму\n",
      "списание дебиторки в налоговом учете\n"
     ]
    }
   ],
   "source": [
    "#  Вывожу исправленные фразы\n",
    "for t in result:\n",
    "    print(t)"
   ]
  },
  {
   "cell_type": "code",
   "execution_count": null,
   "metadata": {},
   "outputs": [],
   "source": []
  }
 ],
 "metadata": {
  "kernelspec": {
   "display_name": "Python 3",
   "language": "python",
   "name": "python3"
  },
  "language_info": {
   "codemirror_mode": {
    "name": "ipython",
    "version": 3
   },
   "file_extension": ".py",
   "mimetype": "text/x-python",
   "name": "python",
   "nbconvert_exporter": "python",
   "pygments_lexer": "ipython3",
   "version": "3.8.5"
  }
 },
 "nbformat": 4,
 "nbformat_minor": 4
}
